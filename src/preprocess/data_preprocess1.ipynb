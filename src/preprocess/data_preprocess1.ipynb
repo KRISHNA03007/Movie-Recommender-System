{
 "cells": [
  {
   "cell_type": "code",
   "execution_count": 1,
   "id": "23e1a9f2",
   "metadata": {},
   "outputs": [],
   "source": [
    "import os\n",
    "import pandas as pd\n",
    "import ast\n",
    "import pickle\n",
    "from sklearn.feature_extraction.text import TfidfVectorizer\n",
    "from sklearn.metrics.pairwise import cosine_similarity"
   ]
  },
  {
   "cell_type": "code",
   "execution_count": 2,
   "id": "542ec2c0",
   "metadata": {},
   "outputs": [],
   "source": [
    "movies1 = pd.read_csv(\"C:\\\\Users\\\\krish\\\\Desktop\\\\Movie_Recommender_System\\\\data\\\\raw\\\\tmdb_5000_movies.csv\")\n",
    "credits1 = pd.read_csv(\"C:\\\\Users\\\\krish\\\\Desktop\\\\Movie_Recommender_System\\\\data\\\\raw\\\\tmdb_5000_credits.csv\")"
   ]
  },
  {
   "cell_type": "code",
   "execution_count": 3,
   "id": "63e2c382",
   "metadata": {},
   "outputs": [],
   "source": [
    "movies1 = movies1.merge(credits1,on='title')"
   ]
  },
  {
   "cell_type": "code",
   "execution_count": 4,
   "id": "cf818b9e",
   "metadata": {},
   "outputs": [],
   "source": [
    "movies1['profit'] = movies1['revenue'] - movies1['budget']"
   ]
  },
  {
   "cell_type": "code",
   "execution_count": 5,
   "id": "63e56f81",
   "metadata": {},
   "outputs": [],
   "source": [
    "import ast\n",
    "\n",
    "def convert_to_string(text):\n",
    "    genre_list = []\n",
    "    for i in ast.literal_eval(text):\n",
    "        genre_list.append(i['name']) \n",
    "    return ', '.join(genre_list)  # Join list elements into a single string, separated by commas\n",
    "\n",
    "movies1['genres'] = movies1['genres'].apply(convert_to_string)"
   ]
  },
  {
   "cell_type": "code",
   "execution_count": 6,
   "id": "df85e0b3",
   "metadata": {},
   "outputs": [],
   "source": [
    "import ast\n",
    "\n",
    "def convert3(text):\n",
    "    L = []\n",
    "    counter = 0\n",
    "    for i in ast.literal_eval(text):\n",
    "        if counter < 3:\n",
    "            L.append(i['name'])\n",
    "        counter += 1\n",
    "    return ','.join(L)  # Join the list into a comma-separated string\n",
    "\n",
    "# Apply the function to the 'cast' column\n",
    "movies1['cast'] = movies1['cast'].apply(convert3)"
   ]
  },
  {
   "cell_type": "code",
   "execution_count": 7,
   "id": "0cc57f17",
   "metadata": {},
   "outputs": [],
   "source": [
    "def fetch_director(text):\n",
    "    L = []\n",
    "    for i in ast.literal_eval(text):\n",
    "        if i['job'] == 'Director':\n",
    "            L.append(i['name'])\n",
    "    return ','.join(L)\n",
    "movies1['crew'] = movies1['crew'].apply(fetch_director)"
   ]
  },
  {
   "cell_type": "code",
   "execution_count": 8,
   "id": "e92a59f3",
   "metadata": {},
   "outputs": [],
   "source": [
    "movies1.rename(columns={'crew': 'director'}, inplace=True)"
   ]
  },
  {
   "cell_type": "code",
   "execution_count": 9,
   "id": "353e1b5f",
   "metadata": {},
   "outputs": [],
   "source": [
    "movies1.rename(columns={'vote_avg': 'imdb rating'}, inplace=True)"
   ]
  },
  {
   "cell_type": "code",
   "execution_count": 10,
   "id": "74a214ca",
   "metadata": {},
   "outputs": [],
   "source": [
    "movies1.columns = movies1.columns.str.lower()"
   ]
  },
  {
   "cell_type": "code",
   "execution_count": 11,
   "id": "e2fc3223",
   "metadata": {},
   "outputs": [],
   "source": [
    "columns_to_convert = ['genres', 'cast', 'director']\n",
    "movies1[columns_to_convert] = movies1[columns_to_convert].apply(lambda col: col.str.lower())"
   ]
  },
  {
   "cell_type": "code",
   "execution_count": 12,
   "id": "f7e57e26",
   "metadata": {},
   "outputs": [
    {
     "data": {
      "text/plain": [
       "'In the 22nd century, a paraplegic Marine is dispatched to the moon Pandora on a unique mission, but becomes torn between following orders and protecting an alien civilization.'"
      ]
     },
     "execution_count": 12,
     "metadata": {},
     "output_type": "execute_result"
    }
   ],
   "source": [
    "movies1['overview'][0]"
   ]
  },
  {
   "cell_type": "code",
   "execution_count": 14,
   "id": "31b4bbbb",
   "metadata": {},
   "outputs": [
    {
     "name": "stdout",
     "output_type": "stream",
     "text": [
      "Pickle file saved at: C:\\Users\\krish\\Desktop\\Movie_Recommender_System\\model\\info1.pkl\n"
     ]
    }
   ],
   "source": [
    "import pickle\n",
    "import os\n",
    "\n",
    "# Ensure the folder exists\n",
    "save_path = r\"C:\\Users\\krish\\Desktop\\Movie_Recommender_System\\model\"\n",
    "os.makedirs(save_path, exist_ok=True)\n",
    "\n",
    "# Full path for the pickle file\n",
    "file_path = os.path.join(save_path, \"info1.pkl\")\n",
    "\n",
    "# Save the DataFrame\n",
    "pickle.dump(movies1, open(file_path, \"wb\"))\n",
    "print(f\"Pickle file saved at: {file_path}\")\n"
   ]
  }
 ],
 "metadata": {
  "kernelspec": {
   "display_name": "venv",
   "language": "python",
   "name": "python3"
  },
  "language_info": {
   "codemirror_mode": {
    "name": "ipython",
    "version": 3
   },
   "file_extension": ".py",
   "mimetype": "text/x-python",
   "name": "python",
   "nbconvert_exporter": "python",
   "pygments_lexer": "ipython3",
   "version": "3.10.11"
  }
 },
 "nbformat": 4,
 "nbformat_minor": 5
}
